{
 "cells": [
  {
   "cell_type": "code",
   "execution_count": 1,
   "id": "20dc026f",
   "metadata": {},
   "outputs": [
    {
     "name": "stderr",
     "output_type": "stream",
     "text": [
      "WARNING - 2021-12-10 18:30:54,082 - rigid_transformations - autolab_core not installed as catkin package, RigidTransform ros methods will be unavailable\n",
      "INFO - 2021-12-10 18:30:54,264 - acceleratesupport - No OpenGL_accelerate module loaded: No module named 'OpenGL_accelerate'\n"
     ]
    }
   ],
   "source": [
    "#!/usr/bin/env python\n",
    "\n",
    "import numpy as np\n",
    "import cv2\n",
    "from numpy.core.numeric import full\n",
    "import rospy\n",
    "import rospkg\n",
    "import open3d as o3d\n",
    "from transforms3d.quaternions import mat2quat\n",
    "import time\n",
    "import copy\n",
    "import os\n",
    "from copy import deepcopy\n",
    "\n",
    "import sys\n",
    "from os import path\n",
    "from ocrtoc_common.camera_interface import CameraInterface\n",
    "from ocrtoc_common.transform_interface import TransformInterface\n",
    "from sensor_msgs.msg import CameraInfo, Image, PointCloud2\n",
    "import pickle\n",
    "\n",
    "from src.ocrtoc_perception.graspnet import GraspNetBaseLine\n",
    "import open3d_plus as o3dp"
   ]
  },
  {
   "cell_type": "markdown",
   "id": "b3c91376",
   "metadata": {},
   "source": [
    "## Load point cloud"
   ]
  },
  {
   "cell_type": "code",
   "execution_count": 90,
   "id": "4a808dc3",
   "metadata": {},
   "outputs": [],
   "source": [
    "if __name__ == \"__main__\" :\n",
    "    rospack = rospkg.RosPack()\n",
    "    taskid= '1-1-1'\n",
    "    save_path = os.path.join(rospack.get_path('ocrtoc_perception'),'data',taskid, '')\n",
    "    full_pcd = o3d.io.read_point_cloud(save_path + 'full_pcd.pcd') \n",
    "    with open(save_path +  'color_images.pickle', 'rb') as handle:\n",
    "        color_images = pickle.load(handle)  \n",
    "    with open(save_path + 'camera_poses.pickle', 'rb') as handle:\n",
    "        camera_poses = pickle.load(handle) \n",
    "    # Compute Grasping Poses (Many Poses in a Scene)\n",
    "    \n",
    "    with open(save_path + 'gg.pickle', 'rb') as handle:\n",
    "        gg = pickle.load(handle)\n",
    "     \n",
    "        \n",
    "        \n",
    "    frame = o3d.geometry.TriangleMesh.create_coordinate_frame(0.1) "
   ]
  },
  {
   "cell_type": "markdown",
   "id": "87dec29a",
   "metadata": {},
   "source": [
    "## load and run Graspnet"
   ]
  },
  {
   "cell_type": "code",
   "execution_count": 105,
   "id": "aeda6ca3",
   "metadata": {},
   "outputs": [
    {
     "name": "stdout",
     "output_type": "stream",
     "text": [
      "-> loaded checkpoint /root/ocrtoc_ws/src/ocrtoc_perception/src/ocrtoc_perception/graspnet/logs/log_rs/checkpoint.tar (epoch: 18)\n",
      "Managed to generate 54 grasps\n"
     ]
    }
   ],
   "source": [
    "# this was found through perceptionservice enterence -> rosparam -> file pointer\n",
    "graspnet_chekpoint_path = \"src/ocrtoc_perception/graspnet/logs/log_rs/checkpoint.tar\"\n",
    "redefine_approach = 0\n",
    "\"\"\"\n",
    "graspnet_baseline = GraspNetBaseLine(\n",
    "            checkpoint_path = os.path.join(\n",
    "                rospkg.RosPack().get_path('ocrtoc_perception'),\n",
    "                graspnet_chekpoint_path),collision_thresh=0.001,voxel_size=0.01)\n",
    "\"\"\"\n",
    "\"\"\"\n",
    "Modified\n",
    "\"\"\"\n",
    "graspnet_baseline = GraspNetBaseLine(\n",
    "            checkpoint_path = os.path.join(\n",
    "                rospkg.RosPack().get_path('ocrtoc_perception'),\n",
    "                graspnet_chekpoint_path),collision_thresh=0.001,empty_thresh=0,voxel_size=1)\n",
    "\n",
    "\n",
    "def compute_grasp_pose(full_pcd):\n",
    "        points, _ = o3dp.pcd2array(full_pcd)\n",
    "        grasp_pcd = copy.deepcopy(full_pcd)\n",
    "        grasp_pcd.points = o3d.utility.Vector3dVector(-points)\n",
    "\n",
    "        # generating grasp poses.\n",
    "        gg = graspnet_baseline.inference(grasp_pcd)\n",
    "        gg.translations = -gg.translations\n",
    "        gg.rotation_matrices = -gg.rotation_matrices\n",
    "        gg.translations = gg.translations + gg.rotation_matrices[:, :, 0] * redefine_approach\n",
    "        gg = graspnet_baseline.collision_detection(gg, points)\n",
    "\n",
    "        # all the returned result in 'world' frame. 'gg' using 'graspnet' gripper frame.\n",
    "        return gg\n",
    "\n",
    "\n",
    "gg = compute_grasp_pose(full_pcd)\n",
    "print(f\"Managed to generate {len(gg)} grasps\")"
   ]
  },
  {
   "cell_type": "markdown",
   "id": "e9543458",
   "metadata": {},
   "source": [
    "## Visualize"
   ]
  },
  {
   "cell_type": "code",
   "execution_count": 106,
   "id": "37675e23",
   "metadata": {},
   "outputs": [],
   "source": [
    "o3d.visualization.draw_geometries([frame, full_pcd,*gg.to_open3d_geometry_list()])"
   ]
  }
 ],
 "metadata": {
  "kernelspec": {
   "display_name": "Python 3",
   "language": "python",
   "name": "python3"
  },
  "language_info": {
   "codemirror_mode": {
    "name": "ipython",
    "version": 3
   },
   "file_extension": ".py",
   "mimetype": "text/x-python",
   "name": "python",
   "nbconvert_exporter": "python",
   "pygments_lexer": "ipython3",
   "version": "3.6.9"
  }
 },
 "nbformat": 4,
 "nbformat_minor": 5
}
