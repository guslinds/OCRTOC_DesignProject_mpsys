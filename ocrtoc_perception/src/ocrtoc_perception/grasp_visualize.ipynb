{
 "cells": [
  {
   "cell_type": "code",
   "execution_count": 3,
   "id": "e69f05c5",
   "metadata": {},
   "outputs": [],
   "source": [
    "#!/usr/bin/env python\n",
    "\n",
    "import numpy as np\n",
    "import cv2\n",
    "from numpy.core.numeric import full\n",
    "import rospy\n",
    "import rospkg\n",
    "import open3d as o3d\n",
    "from transforms3d.quaternions import mat2quat\n",
    "import time\n",
    "import copy\n",
    "import os\n",
    "from copy import deepcopy\n",
    "\n",
    "import sys\n",
    "from os import path\n",
    "from ocrtoc_common.camera_interface import CameraInterface\n",
    "from ocrtoc_common.transform_interface import TransformInterface\n",
    "from sensor_msgs.msg import CameraInfo, Image, PointCloud2\n",
    "import pickle\n",
    "\n",
    "\n",
    "if __name__ == \"__main__\" :\n",
    "    rospack = rospkg.RosPack()\n",
    "    taskid= '1-1-1'\n",
    "    save_path = os.path.join(rospack.get_path('ocrtoc_perception'),'data',taskid, '')\n",
    "    full_pcd = o3d.io.read_point_cloud(save_path + 'full_pcd.pcd') \n",
    "    with open(save_path +  'color_images.pickle', 'rb') as handle:\n",
    "        color_images = pickle.load(handle)  \n",
    "    with open(save_path + 'camera_poses.pickle', 'rb') as handle:\n",
    "        camera_poses = pickle.load(handle) \n",
    "    # Compute Grasping Poses (Many Poses in a Scene)\n",
    "    with open(save_path + 'gg.pickle', 'rb') as handle:\n",
    "        gg = pickle.load(handle)      \n",
    "\n",
    "    with open(save_path + 'object_poses.pickle', 'rb') as handle:\n",
    "        object_poses= pickle.load(handle) \n",
    "        \n",
    "        \n",
    "        \n",
    "    frame = o3d.geometry.TriangleMesh.create_coordinate_frame(0.1)        \n"
   ]
  },
  {
   "cell_type": "code",
   "execution_count": null,
   "id": "8f279423",
   "metadata": {},
   "outputs": [],
   "source": []
  },
  {
   "cell_type": "code",
   "execution_count": 4,
   "id": "21c5271b",
   "metadata": {},
   "outputs": [],
   "source": [
    "o3d.visualization.draw_geometries([frame, full_pcd, *gg.to_open3d_geometry_list()])\n"
   ]
  },
  {
   "cell_type": "code",
   "execution_count": null,
   "id": "1a6e9945",
   "metadata": {},
   "outputs": [],
   "source": []
  }
 ],
 "metadata": {
  "kernelspec": {
   "display_name": "Python 3",
   "language": "python",
   "name": "python3"
  },
  "language_info": {
   "codemirror_mode": {
    "name": "ipython",
    "version": 3
   },
   "file_extension": ".py",
   "mimetype": "text/x-python",
   "name": "python",
   "nbconvert_exporter": "python",
   "pygments_lexer": "ipython3",
   "version": "3.6.9"
  }
 },
 "nbformat": 4,
 "nbformat_minor": 5
}
