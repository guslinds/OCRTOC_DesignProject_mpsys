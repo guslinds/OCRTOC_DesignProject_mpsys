{
 "cells": [
  {
   "cell_type": "code",
   "execution_count": 106,
   "id": "e69f05c5",
   "metadata": {},
   "outputs": [
    {
     "name": "stdout",
     "output_type": "stream",
     "text": [
      "\u001b[1;33m[Open3D WARNING] Read PCD failed: unable to open file: /root/ocrtoc_ws/src/ocrtoc_perception/data/2-1-2-data-2/full_pcd.pcd\u001b[0;m\n"
     ]
    },
    {
     "ename": "FileNotFoundError",
     "evalue": "[Errno 2] No such file or directory: '/root/ocrtoc_ws/src/ocrtoc_perception/data/2-1-2-data-2/color_images.pickle'",
     "output_type": "error",
     "traceback": [
      "\u001b[0;31m---------------------------------------------------------------------------\u001b[0m",
      "\u001b[0;31mFileNotFoundError\u001b[0m                         Traceback (most recent call last)",
      "\u001b[0;32m<ipython-input-106-306b30a9f2b2>\u001b[0m in \u001b[0;36m<module>\u001b[0;34m\u001b[0m\n\u001b[1;32m     26\u001b[0m     \u001b[0msave_path\u001b[0m \u001b[0;34m=\u001b[0m \u001b[0mos\u001b[0m\u001b[0;34m.\u001b[0m\u001b[0mpath\u001b[0m\u001b[0;34m.\u001b[0m\u001b[0mjoin\u001b[0m\u001b[0;34m(\u001b[0m\u001b[0mrospack\u001b[0m\u001b[0;34m.\u001b[0m\u001b[0mget_path\u001b[0m\u001b[0;34m(\u001b[0m\u001b[0;34m'ocrtoc_perception'\u001b[0m\u001b[0;34m)\u001b[0m\u001b[0;34m,\u001b[0m\u001b[0;34m'data'\u001b[0m\u001b[0;34m,\u001b[0m\u001b[0mtaskid\u001b[0m\u001b[0;34m,\u001b[0m \u001b[0;34m''\u001b[0m\u001b[0;34m)\u001b[0m\u001b[0;34m\u001b[0m\u001b[0;34m\u001b[0m\u001b[0m\n\u001b[1;32m     27\u001b[0m     \u001b[0mfull_pcd\u001b[0m \u001b[0;34m=\u001b[0m \u001b[0mo3d\u001b[0m\u001b[0;34m.\u001b[0m\u001b[0mio\u001b[0m\u001b[0;34m.\u001b[0m\u001b[0mread_point_cloud\u001b[0m\u001b[0;34m(\u001b[0m\u001b[0msave_path\u001b[0m \u001b[0;34m+\u001b[0m \u001b[0;34m'full_pcd.pcd'\u001b[0m\u001b[0;34m)\u001b[0m\u001b[0;34m\u001b[0m\u001b[0;34m\u001b[0m\u001b[0m\n\u001b[0;32m---> 28\u001b[0;31m     \u001b[0;32mwith\u001b[0m \u001b[0mopen\u001b[0m\u001b[0;34m(\u001b[0m\u001b[0msave_path\u001b[0m \u001b[0;34m+\u001b[0m  \u001b[0;34m'color_images.pickle'\u001b[0m\u001b[0;34m,\u001b[0m \u001b[0;34m'rb'\u001b[0m\u001b[0;34m)\u001b[0m \u001b[0;32mas\u001b[0m \u001b[0mhandle\u001b[0m\u001b[0;34m:\u001b[0m\u001b[0;34m\u001b[0m\u001b[0;34m\u001b[0m\u001b[0m\n\u001b[0m\u001b[1;32m     29\u001b[0m         \u001b[0mcolor_images\u001b[0m \u001b[0;34m=\u001b[0m \u001b[0mpickle\u001b[0m\u001b[0;34m.\u001b[0m\u001b[0mload\u001b[0m\u001b[0;34m(\u001b[0m\u001b[0mhandle\u001b[0m\u001b[0;34m)\u001b[0m\u001b[0;34m\u001b[0m\u001b[0;34m\u001b[0m\u001b[0m\n\u001b[1;32m     30\u001b[0m     \u001b[0;32mwith\u001b[0m \u001b[0mopen\u001b[0m\u001b[0;34m(\u001b[0m\u001b[0msave_path\u001b[0m \u001b[0;34m+\u001b[0m \u001b[0;34m'camera_poses.pickle'\u001b[0m\u001b[0;34m,\u001b[0m \u001b[0;34m'rb'\u001b[0m\u001b[0;34m)\u001b[0m \u001b[0;32mas\u001b[0m \u001b[0mhandle\u001b[0m\u001b[0;34m:\u001b[0m\u001b[0;34m\u001b[0m\u001b[0;34m\u001b[0m\u001b[0m\n",
      "\u001b[0;31mFileNotFoundError\u001b[0m: [Errno 2] No such file or directory: '/root/ocrtoc_ws/src/ocrtoc_perception/data/2-1-2-data-2/color_images.pickle'"
     ]
    }
   ],
   "source": [
    "#!/usr/bin/env python\n",
    "\n",
    "import numpy as np\n",
    "import cv2\n",
    "from numpy.core.numeric import full\n",
    "import rospy\n",
    "import rospkg\n",
    "import open3d as o3d\n",
    "from transforms3d.quaternions import mat2quat\n",
    "import time\n",
    "import copy\n",
    "import os\n",
    "from copy import deepcopy\n",
    "\n",
    "import sys\n",
    "from os import path\n",
    "from ocrtoc_common.camera_interface import CameraInterface\n",
    "from ocrtoc_common.transform_interface import TransformInterface\n",
    "from sensor_msgs.msg import CameraInfo, Image, PointCloud2\n",
    "import pickle\n",
    "\n",
    "\n",
    "if __name__ == \"__main__\" :\n",
    "    rospack = rospkg.RosPack()\n",
    "    taskid= '2-1-2-data-2'\n",
    "    save_path = os.path.join(rospack.get_path('ocrtoc_perception'),'data',taskid, '')\n",
    "    full_pcd = o3d.io.read_point_cloud(save_path + 'full_pcd.pcd') \n",
    "    with open(save_path +  'color_images.pickle', 'rb') as handle:\n",
    "        color_images = pickle.load(handle)  \n",
    "    with open(save_path + 'camera_poses.pickle', 'rb') as handle:\n",
    "        camera_poses = pickle.load(handle) \n",
    "    # Compute Grasping Poses (Many Poses in a Scene)\n",
    "    with open(save_path + 'gg.pickle', 'rb') as handle:\n",
    "        gg = pickle.load(handle)      \n",
    "\n",
    "    with open(save_path + 'object_poses.pickle', 'rb') as handle:\n",
    "        object_poses= pickle.load(handle) \n",
    "        \n",
    "        \n",
    "        \n",
    "    frame = o3d.geometry.TriangleMesh.create_coordinate_frame(0.1)        \n"
   ]
  },
  {
   "cell_type": "code",
   "execution_count": 51,
   "id": "ce76e68f",
   "metadata": {},
   "outputs": [
    {
     "name": "stdout",
     "output_type": "stream",
     "text": [
      "[array([ 0.11676473, -0.18633811,  0.03117309]), array([ 0.11507295, -0.21543022,  0.06179549]), array([-0.07621131, -0.14495013,  0.04011803]), array([-0.07736078,  0.11978251,  0.05341744]), array([-0.05545778,  0.14673042,  0.02042893])]\n"
     ]
    }
   ],
   "source": [
    "#for object_ in object_poses.values():\n",
    "    #print(object_[\"pose\"])\n",
    "    \n",
    "object_pose_list = list(object_poses.values())\n",
    "object_pose_list_len = len(object_pose_list)\n",
    "\n",
    "object_origin_extracted = [None]*object_pose_list_len\n",
    "\n",
    "for i in range(object_pose_list_len):\n",
    "    object_pose = object_pose_list[i]['pose']\n",
    "    #object_rot = mat2quat(object_pose[0:3,0:3])\n",
    "    object_trans = object_pose[0:3,3]\n",
    "    \n",
    "    #p_stamped.pose.position.x = object_trans[0]\n",
    "    #p_stamped.pose.position.y = object_trans[1]\n",
    "    #p_stamped.pose.position.z = object_trans[2]\n",
    "\n",
    "    #p_stamped.pose.orientation.x = object_rot[0]\n",
    "    #p_stamped.pose.orientation.y = object_rot[1]\n",
    "    #p_stamped.pose.orientation.z = object_rot[2]\n",
    "    #p_stamped.pose.orientation.w = object_rot[3]\n",
    "\n",
    "    #p_stamped.header.frame_id = 'world'\n",
    "\n",
    "    object_origin_extracted[i] = object_trans\n",
    "    \n",
    "    \n",
    "print(object_origin_extracted)"
   ]
  },
  {
   "cell_type": "code",
   "execution_count": 70,
   "id": "8f279423",
   "metadata": {},
   "outputs": [
    {
     "name": "stdout",
     "output_type": "stream",
     "text": [
      "[0.35777852 0.12361464 0.43927532 0.12490012 0.23966826 0.5194343\n",
      " 0.8115901  0.14152083 0.28402114 0.55195725 1.2477342  0.2191413\n",
      " 0.39679337 0.40376797 0.2248253  0.25346917 1.0360943  0.30572402\n",
      " 0.3645935  0.2051539  0.81941813 0.19512825 1.1890011  0.98528194\n",
      " 1.0278609  1.5065768  0.3994226  0.947345   0.08543259 0.730855\n",
      " 1.3978658  0.5912513  0.5603831  0.12164972 1.0902991  0.3777262\n",
      " 0.46180457 0.9501651  0.16380483 0.99963075 1.0652131  1.1941316\n",
      " 0.6904812  0.81127197 0.28882182 0.26138377 0.15658262 0.86507297\n",
      " 0.39867026 0.24011266 0.5211815  0.1511082  0.41391677 0.2418275\n",
      " 0.33916417 0.7252431  0.911852   0.13555767 0.74057937 0.49974072\n",
      " 0.8521794 ]\n",
      "{'suger_1': {'pose': array([[ 0.99776771, -0.01114179,  0.06584419,  0.11676473],\n",
      "       [ 0.01355452,  0.99924862, -0.03631063, -0.18633811],\n",
      "       [-0.06539015,  0.03712206,  0.99716903,  0.03117309],\n",
      "       [ 0.        ,  0.        ,  0.        ,  1.        ]])}, 'suger_2': {'pose': array([[ 0.61729883, -0.78604833, -0.03271368,  0.11507295],\n",
      "       [ 0.76143424,  0.60739425, -0.22647324, -0.21543022],\n",
      "       [ 0.19788901,  0.11489235,  0.97346787,  0.06179549],\n",
      "       [ 0.        ,  0.        ,  0.        ,  1.        ]])}, 'orion_pie': {'pose': array([[ 0.99996968,  0.00474204, -0.00617676, -0.07621131],\n",
      "       [-0.0045518 ,  0.99952571,  0.03045716, -0.14495013],\n",
      "       [ 0.00631826, -0.03042812,  0.99951699,  0.04011803],\n",
      "       [ 0.        ,  0.        ,  0.        ,  1.        ]])}, 'clear_box_1': {'pose': array([[ 1.28956543e-03,  9.99922029e-01, -1.24206556e-02,\n",
      "        -7.73607835e-02],\n",
      "       [-9.84324339e-01, -9.21294815e-04, -1.76365377e-01,\n",
      "         1.19782510e-01],\n",
      "       [-1.76363069e-01,  1.24533884e-02,  9.84246403e-01,\n",
      "         5.34174442e-02],\n",
      "       [ 0.00000000e+00,  0.00000000e+00,  0.00000000e+00,\n",
      "         1.00000000e+00]])}, 'potato_chip_1': {'pose': array([[-0.00412162, -0.00303419,  0.9999869 , -0.05545778],\n",
      "       [ 0.02080038,  0.99977878,  0.00311929,  0.14673042],\n",
      "       [-0.99977515,  0.02081296, -0.00405759,  0.02042893],\n",
      "       [ 0.        ,  0.        ,  0.        ,  1.        ]])}}\n"
     ]
    }
   ],
   "source": [
    "print(gg.scores)\n",
    "print(object_poses)\n",
    "\n",
    "\n",
    "def assign_grasps_to_object(ts, object_poses):\n",
    "    dist_thresh = np.inf\n",
    "    min_dists = np.inf * np.ones((len(rs)))\n",
    "    min_object_ids = -1 * np.ones(shape = (len(rs)), dtype = np.int32)\n",
    "    for i, object_name in enumerate(object_poses.keys()):\n",
    "        #object_names.append(object_name)\n",
    "        object_pose = object_poses[object_name]\n",
    "\n",
    "        dists = np.linalg.norm(ts - object_pose['pose'][:3,3], axis=1)\n",
    "        object_mask = np.logical_and(dists < min_dists, dists < dist_thresh)\n",
    "\n",
    "        min_object_ids[object_mask] = i\n",
    "        min_dists[object_mask] = dists[object_mask]\n",
    "    return object_mask, min_object_ids\n",
    "\n",
    "\n",
    "def center_of_mass_score(gg, object_poses):\n",
    "    penalty_factor = 1\n",
    "    ts = gg.translations\n",
    "    rs = gg.rotation_matrices\n",
    "    depths = gg.depths\n",
    "    ts = ts + rs[:,:,0]*(np.vstack((depths, depths, depths)).T)\n",
    "    dists = []\n",
    "    object_mask = assign_graps_to_object(object_poses)\n",
    "    for object_ in object_poses:\n",
    "        #if object_\n",
    "        dists.append(np.linalg.norm(ts-object_['pose'][:3,3], axis=1))\n",
    "        \n",
    "    gg.scores = gg.scores - dists*penalty_factor\n",
    "    return gg\n",
    "\n",
    "\n",
    "#gg = center_of_mass_score(gg, object_poses)\n",
    "#print(gg.scores)"
   ]
  },
  {
   "cell_type": "code",
   "execution_count": 71,
   "id": "17025374",
   "metadata": {},
   "outputs": [
    {
     "data": {
      "text/plain": [
       "(array([ True, False,  True,  True,  True, False, False,  True,  True,\n",
       "         True, False,  True,  True,  True,  True, False, False,  True,\n",
       "         True, False, False,  True, False, False, False,  True, False,\n",
       "        False,  True,  True, False, False,  True,  True, False,  True,\n",
       "         True, False, False,  True,  True, False, False, False,  True,\n",
       "         True,  True, False,  True,  True,  True,  True,  True,  True,\n",
       "        False, False, False,  True, False, False, False]),\n",
       " array([4, 3, 4, 4, 4, 3, 0, 4, 4, 4, 2, 4, 4, 4, 4, 3, 0, 4, 4, 3, 2, 4,\n",
       "        0, 2, 2, 4, 3, 0, 4, 4, 2, 3, 4, 4, 0, 4, 4, 0, 3, 4, 4, 0, 2, 0,\n",
       "        4, 4, 4, 0, 4, 4, 4, 4, 4, 4, 3, 0, 2, 4, 0, 3, 0], dtype=int32))"
      ]
     },
     "execution_count": 71,
     "metadata": {},
     "output_type": "execute_result"
    }
   ],
   "source": [
    "ts = gg.translations\n",
    "rs = gg.rotation_matrices\n",
    "depths = gg.depths\n",
    "ts = ts + rs[:,:,0]*(np.vstack((depths, depths, depths)).T)\n",
    "assign_grasps_to_object(ts, object_poses)\n"
   ]
  },
  {
   "cell_type": "code",
   "execution_count": 52,
   "id": "c36f18e1",
   "metadata": {},
   "outputs": [
    {
     "name": "stdout",
     "output_type": "stream",
     "text": [
      "[[ 0.0231152   0.25075957  0.13020846]\n",
      " [-0.1790488   0.26174837  0.13261144]\n",
      " [ 0.09479912  0.10873193  0.07119028]\n",
      " [ 0.14260983  0.25382715  0.08035313]\n",
      " [-0.16391094  0.25354818  0.04794811]\n",
      " [-0.1450553   0.14065886  0.0505309 ]\n",
      " [ 0.10697125 -0.21362303  0.05687856]\n",
      " [ 0.09330377  0.25688225  0.1301308 ]\n",
      " [-0.03551773  0.25100017  0.13018793]\n",
      " [-0.12838559  0.25255713  0.1297549 ]\n",
      " [-0.12885766 -0.1491029   0.03138361]\n",
      " [ 0.16923319  0.25338054  0.04489009]\n",
      " [ 0.11995343  0.13206185  0.06871444]\n",
      " [ 0.08559955  0.14207825  0.07010586]\n",
      " [-0.08667577  0.25445232  0.12832566]\n",
      " [-0.17158613  0.24982502  0.09130426]\n",
      " [ 0.11829621 -0.16924958  0.02778559]\n",
      " [ 0.05975473  0.2569569   0.11405578]\n",
      " [ 0.1744692   0.25308692  0.0852924 ]\n",
      " [-0.1478417   0.25462055  0.11920601]\n",
      " [-0.09622861 -0.14656672  0.07822736]\n",
      " [ 0.08086799  0.12174106  0.05172231]\n",
      " [ 0.09703867 -0.19905841  0.03673489]\n",
      " [-0.02894979 -0.14808685  0.06087001]\n",
      " [-0.13041648 -0.1493197   0.06091681]\n",
      " [ 0.11582229  0.1223314   0.04447998]\n",
      " [-0.12325598  0.14950554  0.0474034 ]\n",
      " [ 0.13150837 -0.21124619  0.051086  ]\n",
      " [ 0.15335967  0.25362298  0.01756946]\n",
      " [ 0.11279204  0.1313514   0.01948384]\n",
      " [-0.0430209  -0.14773197  0.08065699]\n",
      " [-0.14078352  0.14597629  0.02740609]\n",
      " [-0.01088042  0.24544656  0.13085827]\n",
      " [-0.0041656   0.15793364  0.04765186]\n",
      " [ 0.10338172 -0.18025045  0.03222552]\n",
      " [ 0.11520867  0.11284187  0.06559743]\n",
      " [ 0.09887509  0.1274857   0.06913471]\n",
      " [ 0.10677388 -0.1702955   0.05027166]\n",
      " [-0.17448668  0.24939516  0.11703191]\n",
      " [ 0.1141039   0.14066254  0.05279554]\n",
      " [ 0.10107087  0.10886409  0.05214059]\n",
      " [ 0.13315831 -0.17357801  0.03582456]\n",
      " [-0.13044268 -0.16772267  0.0327847 ]\n",
      " [ 0.14314155 -0.1894479   0.0589647 ]\n",
      " [-0.05676088  0.25201738  0.13148768]\n",
      " [ 0.10493892  0.14376257  0.07167402]\n",
      " [ 0.0851358   0.25282535  0.11016034]\n",
      " [ 0.12212055 -0.20929222  0.06627804]\n",
      " [ 0.07873557  0.12987831  0.0702469 ]\n",
      " [-0.10424122  0.25256985  0.13025433]\n",
      " [ 0.04579682  0.25514716  0.1311456 ]\n",
      " [ 0.16990347  0.24920326  0.05871863]\n",
      " [ 0.07432791  0.25264868  0.1311213 ]\n",
      " [-0.05974635  0.14876774  0.04716784]\n",
      " [-0.1751022   0.25138462  0.12924583]\n",
      " [ 0.12900494 -0.17333682  0.01392347]\n",
      " [-0.02777496 -0.13974845  0.08060275]\n",
      " [ 0.09560648  0.14377482  0.05421511]\n",
      " [ 0.12475441 -0.1801619   0.06548936]\n",
      " [-0.15091616  0.25771436  0.1296134 ]\n",
      " [ 0.12305433 -0.16447896  0.04688647]]\n"
     ]
    }
   ],
   "source": [
    "print(gg.translations)"
   ]
  },
  {
   "cell_type": "code",
   "execution_count": null,
   "id": "21c5271b",
   "metadata": {},
   "outputs": [],
   "source": [
    "o3d.visualization.draw_geometries([frame, full_pcd, *gg.to_open3d_geometry_list()])\n"
   ]
  },
  {
   "cell_type": "code",
   "execution_count": 95,
   "id": "76c8455a",
   "metadata": {},
   "outputs": [
    {
     "data": {
      "text/plain": [
       "6"
      ]
     },
     "execution_count": 95,
     "metadata": {},
     "output_type": "execute_result"
    }
   ],
   "source": [
    "np.arg(gg.scores)"
   ]
  },
  {
   "cell_type": "code",
   "execution_count": 81,
   "id": "1a6e9945",
   "metadata": {},
   "outputs": [
    {
     "name": "stdout",
     "output_type": "stream",
     "text": [
      "<bound method PyCapsule.segment_plane of PointCloud with 774972 points.>\n"
     ]
    },
    {
     "data": {
      "text/plain": [
       "['HalfEdgeTriangleMesh',\n",
       " 'Image',\n",
       " 'LineSet',\n",
       " 'PointCloud',\n",
       " 'RGBDImage',\n",
       " 'TetraMesh',\n",
       " 'TriangleMesh',\n",
       " 'Type',\n",
       " 'Unspecified',\n",
       " 'VoxelGrid',\n",
       " '__add__',\n",
       " '__class__',\n",
       " '__copy__',\n",
       " '__deepcopy__',\n",
       " '__delattr__',\n",
       " '__dir__',\n",
       " '__doc__',\n",
       " '__eq__',\n",
       " '__format__',\n",
       " '__ge__',\n",
       " '__getattribute__',\n",
       " '__gt__',\n",
       " '__hash__',\n",
       " '__iadd__',\n",
       " '__init__',\n",
       " '__init_subclass__',\n",
       " '__le__',\n",
       " '__lt__',\n",
       " '__module__',\n",
       " '__ne__',\n",
       " '__new__',\n",
       " '__reduce__',\n",
       " '__reduce_ex__',\n",
       " '__repr__',\n",
       " '__setattr__',\n",
       " '__sizeof__',\n",
       " '__str__',\n",
       " '__subclasshook__',\n",
       " 'clear',\n",
       " 'cluster_dbscan',\n",
       " 'colors',\n",
       " 'compute_convex_hull',\n",
       " 'compute_mahalanobis_distance',\n",
       " 'compute_mean_and_covariance',\n",
       " 'compute_nearest_neighbor_distance',\n",
       " 'compute_point_cloud_distance',\n",
       " 'create_from_depth_image',\n",
       " 'create_from_rgbd_image',\n",
       " 'crop',\n",
       " 'dimension',\n",
       " 'estimate_normals',\n",
       " 'get_axis_aligned_bounding_box',\n",
       " 'get_center',\n",
       " 'get_geometry_type',\n",
       " 'get_max_bound',\n",
       " 'get_min_bound',\n",
       " 'get_oriented_bounding_box',\n",
       " 'get_rotation_matrix_from_axis_angle',\n",
       " 'get_rotation_matrix_from_quaternion',\n",
       " 'get_rotation_matrix_from_xyz',\n",
       " 'get_rotation_matrix_from_xzy',\n",
       " 'get_rotation_matrix_from_yxz',\n",
       " 'get_rotation_matrix_from_yzx',\n",
       " 'get_rotation_matrix_from_zxy',\n",
       " 'get_rotation_matrix_from_zyx',\n",
       " 'has_colors',\n",
       " 'has_normals',\n",
       " 'has_points',\n",
       " 'hidden_point_removal',\n",
       " 'is_empty',\n",
       " 'normalize_normals',\n",
       " 'normals',\n",
       " 'orient_normals_consistent_tangent_plane',\n",
       " 'orient_normals_to_align_with_direction',\n",
       " 'orient_normals_towards_camera_location',\n",
       " 'paint_uniform_color',\n",
       " 'points',\n",
       " 'remove_non_finite_points',\n",
       " 'remove_radius_outlier',\n",
       " 'remove_statistical_outlier',\n",
       " 'rotate',\n",
       " 'scale',\n",
       " 'segment_plane',\n",
       " 'select_by_index',\n",
       " 'transform',\n",
       " 'translate',\n",
       " 'uniform_down_sample',\n",
       " 'voxel_down_sample',\n",
       " 'voxel_down_sample_and_trace']"
      ]
     },
     "execution_count": 81,
     "metadata": {},
     "output_type": "execute_result"
    }
   ],
   "source": [
    "print(full_pcd.segment_plane)\n",
    "\n",
    "dir(full_pcd)"
   ]
  },
  {
   "cell_type": "code",
   "execution_count": null,
   "id": "09096074",
   "metadata": {},
   "outputs": [],
   "source": []
  }
 ],
 "metadata": {
  "kernelspec": {
   "display_name": "Python 3",
   "language": "python",
   "name": "python3"
  },
  "language_info": {
   "codemirror_mode": {
    "name": "ipython",
    "version": 3
   },
   "file_extension": ".py",
   "mimetype": "text/x-python",
   "name": "python",
   "nbconvert_exporter": "python",
   "pygments_lexer": "ipython3",
   "version": "3.6.9"
  }
 },
 "nbformat": 4,
 "nbformat_minor": 5
}
