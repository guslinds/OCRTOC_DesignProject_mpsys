{
 "cells": [
  {
   "cell_type": "code",
   "execution_count": 41,
   "id": "e69f05c5",
   "metadata": {},
   "outputs": [],
   "source": [
    "#!/usr/bin/env python\n",
    "\n",
    "import numpy as np\n",
    "import cv2\n",
    "from numpy.core.numeric import full\n",
    "import rospy\n",
    "import rospkg\n",
    "import open3d as o3d\n",
    "from transforms3d.quaternions import mat2quat\n",
    "import time\n",
    "import copy\n",
    "import os\n",
    "from copy import deepcopy\n",
    "\n",
    "import sys\n",
    "from os import path\n",
    "from ocrtoc_common.camera_interface import CameraInterface\n",
    "from ocrtoc_common.transform_interface import TransformInterface\n",
    "from sensor_msgs.msg import CameraInfo, Image, PointCloud2\n",
    "import pickle\n",
    "\n",
    "\n",
    "if __name__ == \"__main__\" :\n",
    "    rospack = rospkg.RosPack()\n",
    "    taskid= '3-1-1-data-2'\n",
    "    save_path = os.path.join(rospack.get_path('ocrtoc_perception'),'data',taskid, '')\n",
    "    full_pcd = o3d.io.read_point_cloud(save_path + 'full_pcd.pcd') \n",
    "    with open(save_path +  'color_images.pickle', 'rb') as handle:\n",
    "        color_images = pickle.load(handle)  \n",
    "    with open(save_path + 'camera_poses.pickle', 'rb') as handle:\n",
    "        camera_poses = pickle.load(handle) \n",
    "    # Compute Grasping Poses (Many Poses in a Scene)\n",
    "    with open(save_path + 'gg.pickle', 'rb') as handle:\n",
    "        gg = pickle.load(handle)      \n",
    "\n",
    "    with open(save_path + 'object_poses.pickle', 'rb') as handle:\n",
    "        object_poses= pickle.load(handle) \n",
    "        \n",
    "        \n",
    "        \n",
    "    frame = o3d.geometry.TriangleMesh.create_coordinate_frame(0.1)        \n"
   ]
  },
  {
   "cell_type": "code",
   "execution_count": null,
   "id": "ce76e68f",
   "metadata": {},
   "outputs": [],
   "source": [
    "#for object_ in object_poses.values():\n",
    "    #print(object_[\"pose\"])\n",
    "    \n",
    "object_pose_list = list(object_poses.values())\n",
    "object_pose_list_len = len(object_pose_list)\n",
    "\n",
    "object_origin_extracted = [None]*object_pose_list_len\n",
    "\n",
    "for i in range(object_pose_list_len):\n",
    "    object_pose = object_pose_list[i]['pose']\n",
    "    #object_rot = mat2quat(object_pose[0:3,0:3])\n",
    "    object_trans = object_pose[0:3,3]\n",
    "    \n",
    "    #p_stamped.pose.position.x = object_trans[0]\n",
    "    #p_stamped.pose.position.y = object_trans[1]\n",
    "    #p_stamped.pose.position.z = object_trans[2]\n",
    "\n",
    "    #p_stamped.pose.orientation.x = object_rot[0]\n",
    "    #p_stamped.pose.orientation.y = object_rot[1]\n",
    "    #p_stamped.pose.orientation.z = object_rot[2]\n",
    "    #p_stamped.pose.orientation.w = object_rot[3]\n",
    "\n",
    "    #p_stamped.header.frame_id = 'world'\n",
    "\n",
    "    object_origin_extracted[i] = object_trans\n",
    "    \n",
    "    \n",
    "print(object_origin_extracted)"
   ]
  },
  {
   "cell_type": "code",
   "execution_count": 37,
   "id": "1415eca5",
   "metadata": {},
   "outputs": [
    {
     "name": "stdout",
     "output_type": "stream",
     "text": [
      "[0.06916754 0.09396293 0.09453522 0.3511787  0.3198529  0.07040492\n",
      " 0.13586591 0.31745163 0.07259636 0.20223796 0.15350817 0.04152132\n",
      " 0.19123724 0.2170125  0.54274297 0.3611803 ]\n"
     ]
    }
   ],
   "source": [
    "print(gg.scores)\n",
    "#print(object_poses)\n",
    "\n",
    "def assign_grasps_to_object(rs, ts, object_poses):\n",
    "    dist_thresh = np.inf\n",
    "    min_dists = np.inf * np.ones((len(rs)))\n",
    "    min_object_ids = -1 * np.ones(shape = (len(rs)), dtype = np.int32)\n",
    "    for i, object_name in enumerate(object_poses.keys()):\n",
    "        #object_names.append(object_name)\n",
    "        object_pose = object_poses[object_name]\n",
    "\n",
    "        dists = np.linalg.norm(ts - object_pose['pose'][:3,3], axis=1)\n",
    "        object_mask = np.logical_and(dists < min_dists, dists < dist_thresh)\n",
    "\n",
    "        min_object_ids[object_mask] = i\n",
    "        min_dists[object_mask] = dists[object_mask]\n",
    "    return object_mask, min_object_ids\n"
   ]
  },
  {
   "cell_type": "code",
   "execution_count": 38,
   "id": "8f279423",
   "metadata": {},
   "outputs": [
    {
     "name": "stdout",
     "output_type": "stream",
     "text": [
      "[3 2 2 3 3 2 2 1 1 3 2 2 3 3 1 2]\n",
      "[ True False False  True  True False False False False  True False False\n",
      "  True  True False False]\n",
      "[0.07063239 0.26835842 0.26423557 0.32806445 0.37414299 0.14514904\n",
      " 0.18660861 0.42654906 0.26496067 0.20270731 0.1990458  0.23253512\n",
      " 0.21055818 0.2421209  0.20822449 0.19195155]\n",
      "[0.06916754 0.09396293 0.09453522 0.3511787  0.3198529  0.07040492\n",
      " 0.13586591 0.31745163 0.07259636 0.20223796 0.15350817 0.04152132\n",
      " 0.19123724 0.2170125  0.54274297 0.3611803 ]\n",
      "[-0.00437899 -0.5213329  -0.5072974   0.06909711 -0.16229327 -0.22343798\n",
      " -0.15168877 -0.32613277 -0.5750484  -0.00140304 -0.1361289  -0.57101125\n",
      " -0.05775748 -0.07505836  1.          0.5058877 ]\n"
     ]
    }
   ],
   "source": [
    "\n",
    "def center_of_mass_score(gg, object_poses):\n",
    "    penalty_factor = 1\n",
    "    ts = gg.translations\n",
    "    rs = gg.rotation_matrices\n",
    "    depths = gg.depths\n",
    "    ts = ts + rs[:,:,0]*(np.vstack((depths, depths, depths)).T)\n",
    "    dists = []\n",
    "    object_mask, min_object_ids = assign_grasps_to_object(rs, ts, object_poses)\n",
    "    print(min_object_ids)\n",
    "    print(object_mask)\n",
    "    for i, object_name in enumerate(object_poses.keys()):\n",
    "        object_pose = object_poses[object_name]\n",
    "        ts_temp = ts[min_object_ids == i]\n",
    "        dists.append(np.linalg.norm(ts_temp-object_pose['pose'][:3,3], axis=1))\n",
    "        \n",
    "    dists = np.concatenate(dists)\n",
    "    print(dists)\n",
    "    print(gg.scores)\n",
    "    gg.scores = gg.scores - dists\n",
    "    gg.scores = gg.scores/max(gg.scores)\n",
    "    return gg\n",
    "\n",
    "\n",
    "gg = center_of_mass_score(gg, object_poses)\n",
    "print(gg.scores)"
   ]
  },
  {
   "cell_type": "code",
   "execution_count": 42,
   "id": "21c5271b",
   "metadata": {},
   "outputs": [],
   "source": [
    "o3d.visualization.draw_geometries([frame, full_pcd, *gg.to_open3d_geometry_list()])\n"
   ]
  },
  {
   "cell_type": "code",
   "execution_count": null,
   "id": "1a6e9945",
   "metadata": {},
   "outputs": [],
   "source": [
    "print(full_pcd.segment_plane)\n",
    "\n",
    "dir(full_pcd)"
   ]
  },
  {
   "cell_type": "code",
   "execution_count": 48,
   "id": "f2fe8bd8",
   "metadata": {},
   "outputs": [],
   "source": [
    "out_np = np.asarray(full_pcd.points)\n",
    "np.savetxt(\"punktmoln3-1-1.csv\", out_np, delimiter = \",\")"
   ]
  },
  {
   "cell_type": "code",
   "execution_count": null,
   "id": "438f1269",
   "metadata": {},
   "outputs": [],
   "source": []
  }
 ],
 "metadata": {
  "kernelspec": {
   "display_name": "Python 3",
   "language": "python",
   "name": "python3"
  },
  "language_info": {
   "codemirror_mode": {
    "name": "ipython",
    "version": 3
   },
   "file_extension": ".py",
   "mimetype": "text/x-python",
   "name": "python",
   "nbconvert_exporter": "python",
   "pygments_lexer": "ipython3",
   "version": "3.6.9"
  }
 },
 "nbformat": 4,
 "nbformat_minor": 5
}
